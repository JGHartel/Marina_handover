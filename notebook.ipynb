{
 "cells": [
  {
   "cell_type": "markdown",
   "id": "7d9c6a87",
   "metadata": {},
   "source": [
    "## Collecting images from the AIC\n",
    "\n",
    "The AIC has an extensive API (https://api.artic.edu/docs/) that allows for collection of images. The preferred way is to download a large set of metadata, preselect on the basis of this metadata, and then download the image set.\n",
    "\n",
    "Full metadata can be downloaded under the following link:\n",
    "https://artic-api-data.s3.amazonaws.com/artic-api-data.tar.bz2\n",
    "\n",
    "Honestly, I never really worked with querying large datasets, and this one in particular seems to be very weirdly organised. I will skip the manual download here and instead go with the master_list, which offers a pre-selection of images, and was used in a previous study on artwork memorability."
   ]
  },
  {
   "cell_type": "code",
   "execution_count": 1,
   "id": "c5e68f71",
   "metadata": {},
   "outputs": [
    {
     "data": {
      "application/vnd.microsoft.datawrangler.viewer.v0+json": {
       "columns": [
        {
         "name": "index",
         "rawType": "int64",
         "type": "integer"
        },
        {
         "name": "image_id",
         "rawType": "object",
         "type": "string"
        },
        {
         "name": "artwork_id",
         "rawType": "float64",
         "type": "float"
        },
        {
         "name": "artist",
         "rawType": "object",
         "type": "string"
        },
        {
         "name": "width",
         "rawType": "int64",
         "type": "integer"
        },
        {
         "name": "height",
         "rawType": "int64",
         "type": "integer"
        },
        {
         "name": "aspect_ratio",
         "rawType": "float64",
         "type": "float"
        },
        {
         "name": "colorfulness",
         "rawType": "float64",
         "type": "float"
        },
        {
         "name": "HR",
         "rawType": "float64",
         "type": "float"
        },
        {
         "name": "FAR",
         "rawType": "float64",
         "type": "float"
        },
        {
         "name": "CR",
         "rawType": "float64",
         "type": "float"
        },
        {
         "name": "RESMEM",
         "rawType": "float64",
         "type": "float"
        }
       ],
       "ref": "88760ce9-d298-49aa-82c9-a461c47ccd6e",
       "rows": [
        [
         "0",
         "583b892c-d2d9-ea0c-1cfb-719ee1207189",
         "90335.0",
         "Francis Picabia",
         "3447",
         "4023",
         "0.8568232662192393",
         "54.852",
         "0.976",
         "0.024",
         "0.952",
         "0.836785793304443"
        ],
        [
         "1",
         "33b96726-572b-fdba-2020-078bf1a9efd4",
         "73340.0",
         "Marianne Boers",
         "3000",
         "2730",
         "1.098901098901099",
         "77.0544",
         "0.95",
         "0.0",
         "0.95",
         "0.906281054019928"
        ],
        [
         "2",
         "28f20fcd-a5b3-04b3-2dc9-4c5c79ff7b6b",
         "71978.0",
         "Max Beckmann",
         "3000",
         "2100",
         "1.4285714285714286",
         "24.7851",
         "0.927",
         "0.0",
         "0.927",
         "0.934639394283294"
        ],
        [
         "3",
         "711f05a5-3186-6cc8-07ac-50896f804e86",
         null,
         "Paul Cezanne",
         "4019",
         "5826",
         "0.6898386543082733",
         "19.3934",
         "0.951",
         "0.024",
         "0.927",
         "0.852769672870636"
        ],
        [
         "4",
         "099a5420-58c0-f29c-baaa-79019aadb48e",
         "228850.0",
         "Raimer Jochims",
         "4666",
         "3111",
         "1.4998392799742848",
         "52.0929",
         "0.95",
         "0.024",
         "0.926",
         "0.892886340618133"
        ]
       ],
       "shape": {
        "columns": 11,
        "rows": 5
       }
      },
      "text/html": [
       "<div>\n",
       "<style scoped>\n",
       "    .dataframe tbody tr th:only-of-type {\n",
       "        vertical-align: middle;\n",
       "    }\n",
       "\n",
       "    .dataframe tbody tr th {\n",
       "        vertical-align: top;\n",
       "    }\n",
       "\n",
       "    .dataframe thead th {\n",
       "        text-align: right;\n",
       "    }\n",
       "</style>\n",
       "<table border=\"1\" class=\"dataframe\">\n",
       "  <thead>\n",
       "    <tr style=\"text-align: right;\">\n",
       "      <th></th>\n",
       "      <th>image_id</th>\n",
       "      <th>artwork_id</th>\n",
       "      <th>artist</th>\n",
       "      <th>width</th>\n",
       "      <th>height</th>\n",
       "      <th>aspect_ratio</th>\n",
       "      <th>colorfulness</th>\n",
       "      <th>HR</th>\n",
       "      <th>FAR</th>\n",
       "      <th>CR</th>\n",
       "      <th>RESMEM</th>\n",
       "    </tr>\n",
       "  </thead>\n",
       "  <tbody>\n",
       "    <tr>\n",
       "      <th>0</th>\n",
       "      <td>583b892c-d2d9-ea0c-1cfb-719ee1207189</td>\n",
       "      <td>90335.0</td>\n",
       "      <td>Francis Picabia</td>\n",
       "      <td>3447</td>\n",
       "      <td>4023</td>\n",
       "      <td>0.856823</td>\n",
       "      <td>54.8520</td>\n",
       "      <td>0.976</td>\n",
       "      <td>0.024</td>\n",
       "      <td>0.952</td>\n",
       "      <td>0.836786</td>\n",
       "    </tr>\n",
       "    <tr>\n",
       "      <th>1</th>\n",
       "      <td>33b96726-572b-fdba-2020-078bf1a9efd4</td>\n",
       "      <td>73340.0</td>\n",
       "      <td>Marianne Boers</td>\n",
       "      <td>3000</td>\n",
       "      <td>2730</td>\n",
       "      <td>1.098901</td>\n",
       "      <td>77.0544</td>\n",
       "      <td>0.950</td>\n",
       "      <td>0.000</td>\n",
       "      <td>0.950</td>\n",
       "      <td>0.906281</td>\n",
       "    </tr>\n",
       "    <tr>\n",
       "      <th>2</th>\n",
       "      <td>28f20fcd-a5b3-04b3-2dc9-4c5c79ff7b6b</td>\n",
       "      <td>71978.0</td>\n",
       "      <td>Max Beckmann</td>\n",
       "      <td>3000</td>\n",
       "      <td>2100</td>\n",
       "      <td>1.428571</td>\n",
       "      <td>24.7851</td>\n",
       "      <td>0.927</td>\n",
       "      <td>0.000</td>\n",
       "      <td>0.927</td>\n",
       "      <td>0.934639</td>\n",
       "    </tr>\n",
       "    <tr>\n",
       "      <th>3</th>\n",
       "      <td>711f05a5-3186-6cc8-07ac-50896f804e86</td>\n",
       "      <td>NaN</td>\n",
       "      <td>Paul Cezanne</td>\n",
       "      <td>4019</td>\n",
       "      <td>5826</td>\n",
       "      <td>0.689839</td>\n",
       "      <td>19.3934</td>\n",
       "      <td>0.951</td>\n",
       "      <td>0.024</td>\n",
       "      <td>0.927</td>\n",
       "      <td>0.852770</td>\n",
       "    </tr>\n",
       "    <tr>\n",
       "      <th>4</th>\n",
       "      <td>099a5420-58c0-f29c-baaa-79019aadb48e</td>\n",
       "      <td>228850.0</td>\n",
       "      <td>Raimer Jochims</td>\n",
       "      <td>4666</td>\n",
       "      <td>3111</td>\n",
       "      <td>1.499839</td>\n",
       "      <td>52.0929</td>\n",
       "      <td>0.950</td>\n",
       "      <td>0.024</td>\n",
       "      <td>0.926</td>\n",
       "      <td>0.892886</td>\n",
       "    </tr>\n",
       "  </tbody>\n",
       "</table>\n",
       "</div>"
      ],
      "text/plain": [
       "                               image_id  artwork_id           artist  width  \\\n",
       "0  583b892c-d2d9-ea0c-1cfb-719ee1207189     90335.0  Francis Picabia   3447   \n",
       "1  33b96726-572b-fdba-2020-078bf1a9efd4     73340.0   Marianne Boers   3000   \n",
       "2  28f20fcd-a5b3-04b3-2dc9-4c5c79ff7b6b     71978.0     Max Beckmann   3000   \n",
       "3  711f05a5-3186-6cc8-07ac-50896f804e86         NaN     Paul Cezanne   4019   \n",
       "4  099a5420-58c0-f29c-baaa-79019aadb48e    228850.0   Raimer Jochims   4666   \n",
       "\n",
       "   height  aspect_ratio  colorfulness     HR    FAR     CR    RESMEM  \n",
       "0    4023      0.856823       54.8520  0.976  0.024  0.952  0.836786  \n",
       "1    2730      1.098901       77.0544  0.950  0.000  0.950  0.906281  \n",
       "2    2100      1.428571       24.7851  0.927  0.000  0.927  0.934639  \n",
       "3    5826      0.689839       19.3934  0.951  0.024  0.927  0.852770  \n",
       "4    3111      1.499839       52.0929  0.950  0.024  0.926  0.892886  "
      ]
     },
     "execution_count": 1,
     "metadata": {},
     "output_type": "execute_result"
    }
   ],
   "source": [
    "import pandas as pd\n",
    "\n",
    "master_df = pd.read_csv('master_list.csv')\n",
    "master_df.head()"
   ]
  },
  {
   "cell_type": "markdown",
   "id": "c35394e1",
   "metadata": {},
   "source": [
    "We can for example plot the distribution of aspect ratios. "
   ]
  },
  {
   "cell_type": "code",
   "execution_count": 2,
   "id": "1f2f8275",
   "metadata": {},
   "outputs": [
    {
     "data": {
      "text/plain": [
       "<Axes: xlabel='aspect_ratio', ylabel='Count'>"
      ]
     },
     "execution_count": 2,
     "metadata": {},
     "output_type": "execute_result"
    },
    {
     "data": {
      "image/png": "[encoded data removed]",
      "text/plain": [
       "<Figure size 640x480 with 1 Axes>"
      ]
     },
     "metadata": {},
     "output_type": "display_data"
    }
   ],
   "source": [
    "import seaborn as sns\n",
    "\n",
    "sns.histplot(master_df['aspect_ratio'])"
   ]
  },
  {
   "cell_type": "markdown",
   "id": "409e23df",
   "metadata": {},
   "source": [
    "This shows us that most aspect ratios are below 1, with many also being under 2. We can now select for a small subset of these"
   ]
  },
  {
   "cell_type": "code",
   "execution_count": null,
   "id": "8cf2f2f0",
   "metadata": {},
   "outputs": [
    {
     "name": "stdout",
     "output_type": "stream",
     "text": [
      "(3659, 11)\n",
      "(26, 11)\n"
     ]
    },
    {
     "data": {
      "text/plain": [
       "<Axes: xlabel='aspect_ratio', ylabel='Count'>"
      ]
     },
     "execution_count": 3,
     "metadata": {},
     "output_type": "execute_result"
    },
    {
     "data": {
      "image/png": "[encoded data removed]",
      "text/plain": [
       "<Figure size 640x480 with 1 Axes>"
      ]
     },
     "metadata": {},
     "output_type": "display_data"
    }
   ],
   "source": [
    "#filter aspect rations equal to 1.5\n",
    "print(master_df.shape)\n",
    "filtered_df = master_df[(master_df['aspect_ratio'] == 1.5)]\n",
    "print(filtered_df.shape)"
   ]
  },
  {
   "cell_type": "markdown",
   "id": "9de1ccf5",
   "metadata": {},
   "source": [
    "We can now download these images by calling from AIC"
   ]
  },
  {
   "cell_type": "code",
   "execution_count": 5,
   "id": "6ed7f7d0",
   "metadata": {},
   "outputs": [
    {
     "name": "stdout",
     "output_type": "stream",
     "text": [
      "Downloading fc71787a-5e0a-df48-3f5d-a161e0cb9dc7\n",
      "Downloading 54ffe8fc-43b5-e86f-8aa1-f975d6d6f271\n",
      "Downloading 73a5d221-41db-6ed2-c1cd-eb793803e354\n",
      "Downloading e402f8b4-3c8e-38e0-79e0-5e63022a3b06\n",
      "Downloading 21847a33-08da-918e-1b95-c8e1f830357c\n",
      "Downloading 26f91b23-3ccc-da86-1c16-4428303d9859\n",
      "Downloading e0f50570-320d-5d2d-32cf-e739d30088e8\n",
      "Downloading 235de5b4-fa2c-1e09-0906-36399a652b00\n",
      "Downloading 3572974a-2d8c-dd4c-5d5c-04fbdc71784b\n",
      "Downloading fba36313-17e3-5670-f90d-5782cd7735b1\n",
      "Downloading b8f0d60c-3ac3-5328-9531-c37e2ecb1479\n",
      "Downloading cb2716ee-3015-a351-93c8-bc05a2c468c1\n",
      "Downloading 21345869-043c-9ef8-a878-5b9b879e1412\n",
      "Downloading 313a8f4f-5856-c043-cece-fd653bb57b08\n",
      "Downloading d70a6546-dfd0-344c-31bd-1f82e0142540\n",
      "Downloading f19e8be0-7cec-1a3c-c10f-14f46382d643\n",
      "Downloading 1d9568c3-a338-2daf-0e6c-5242f8bba142\n",
      "Downloading 9c2c809d-7637-84b0-747c-0520fa16e901\n",
      "Downloading b1deb0bb-2248-4216-ce99-e5019b56db3f\n",
      "Downloading afeea952-16f1-7e9d-c64f-b3a7abbc4cc1\n",
      "Downloading 637474d4-4467-ccb4-5259-ff243b65f012\n",
      "Downloading 0c42ee33-1fe0-4bf7-c983-1287f8d2c8d5\n",
      "Downloading 14139757-a59e-6b43-57b2-e0a6ac732dc7\n",
      "Downloading 174364e1-e036-fbf2-d861-f8e8ecbafa20\n",
      "Downloading f6312bce-358a-8127-f436-72ef73cec071\n",
      "Downloading 52260ddc-09e8-1378-fe5c-0484568a8694\n",
      "Done\n"
     ]
    }
   ],
   "source": [
    "import requests\n",
    "\n",
    "#clear directory\n",
    "import os\n",
    "if not os.path.exists('image_collection'):\n",
    "    os.makedirs('image_collection')\n",
    "else:\n",
    "    for f in os.listdir('image_collection'):\n",
    "        os.remove(os.path.join('image_collection', f))\n",
    "\n",
    "for image_id in filtered_df['image_id']:\n",
    "    print(f\"Downloading {image_id}\")\n",
    "    url = f\"https://www.artic.edu/iiif/2/{image_id}/full/843,/0/default.jpg\"\n",
    "    download_path = f\"image_collection/{image_id}.jpg\"\n",
    "    response = requests.get(url)\n",
    "    if response.status_code == 200:\n",
    "            with open(download_path, \"wb\") as f:\n",
    "                for chunk in response.iter_content(1024):\n",
    "                    f.write(chunk)\n",
    "    else:\n",
    "        print(f\"Failed to download {download_path}\")\n",
    "\n",
    "print(\"Done\")"
   ]
  }
 ],
 "metadata": {
  "kernelspec": {
   "display_name": "synch",
   "language": "python",
   "name": "python3"
  },
  "language_info": {
   "codemirror_mode": {
    "name": "ipython",
    "version": 3
   },
   "file_extension": ".py",
   "mimetype": "text/x-python",
   "name": "python",
   "nbconvert_exporter": "python",
   "pygments_lexer": "ipython3",
   "version": "3.13.5"
  }
 },
 "nbformat": 4,
 "nbformat_minor": 5
}
